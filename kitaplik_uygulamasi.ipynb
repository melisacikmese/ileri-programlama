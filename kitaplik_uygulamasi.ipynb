{
  "nbformat": 4,
  "nbformat_minor": 0,
  "metadata": {
    "colab": {
      "provenance": [],
      "authorship_tag": "ABX9TyOFOyStlWq55sk+bOaOUtrU",
      "include_colab_link": true
    },
    "kernelspec": {
      "name": "python3",
      "display_name": "Python 3"
    },
    "language_info": {
      "name": "python"
    }
  },
  "cells": [
    {
      "cell_type": "markdown",
      "metadata": {
        "id": "view-in-github",
        "colab_type": "text"
      },
      "source": [
        "<a href=\"https://colab.research.google.com/github/melisacikmese/ileri-programlama/blob/main/kitaplik_uygulamasi.ipynb\" target=\"_parent\"><img src=\"https://colab.research.google.com/assets/colab-badge.svg\" alt=\"Open In Colab\"/></a>"
      ]
    },
    {
      "cell_type": "code",
      "execution_count": 1,
      "metadata": {
        "colab": {
          "base_uri": "https://localhost:8080/"
        },
        "id": "Ey9BsLy2rsS0",
        "outputId": "af6b3736-9135-4669-d35c-23463418ef34"
      },
      "outputs": [
        {
          "output_type": "stream",
          "name": "stdout",
          "text": [
            "Mounted at /content/drive\n"
          ]
        }
      ],
      "source": [
        "from google.colab import drive\n",
        "drive.mount('/content/drive')"
      ]
    },
    {
      "cell_type": "code",
      "source": [
        "import json\n",
        "import os\n",
        "import time\n",
        "\n",
        "\n",
        "VERI_DOSYASI = '/content/drive/MyDrive/Colab Notebooks/kitaplik_uygulamasi.json' # Changed file extension\n",
        "\n",
        "kutuphane = []\n",
        "\n",
        "def verileri_yukle():\n",
        "    global kutuphane\n",
        "    dizin = os.path.dirname(VERI_DOSYASI)\n",
        "    if not os.path.exists(dizin):\n",
        "        os.makedirs(dizin)\n",
        "\n",
        "    if os.path.exists(VERI_DOSYASI):\n",
        "        try:\n",
        "            with open(VERI_DOSYASI, 'r', encoding='utf-8') as f:\n",
        "                # Ensure the loaded data is a list\n",
        "                data = json.load(f)\n",
        "                if isinstance(data, list):\n",
        "                    kutuphane = data\n",
        "                else:\n",
        "                    kutuphane = []\n",
        "                    print(\"Veri dosyası içeriği hatalı, yeni kütüphane oluşturuluyor.\")\n",
        "\n",
        "            print(f\"[{len(kutuphane)}] adet eser Drive'dan yüklendi.\")\n",
        "        except (json.JSONDecodeError, FileNotFoundError):\n",
        "            kutuphane = []\n",
        "            print(\"Veri dosyası hatalı/boş veya bulunamadı, yeni kütüphane oluşturuluyor.\")\n",
        "    else:\n",
        "        kutuphane = []\n",
        "        print(\"Veri dosyası bulunamadı, yeni kütüphane oluşturuluyor.\")\n",
        "\n",
        "\n",
        "def verileri_kaydet():\n",
        "    try:\n",
        "        with open(VERI_DOSYASI, 'w', encoding='utf-8') as f:\n",
        "            json.dump(kutuphane, f, indent=4, ensure_ascii=False)\n",
        "        time.sleep(0.5)\n",
        "        print(\"Veriler başarıyla kaydedildi.\") # Added success message\n",
        "    except Exception as e:\n",
        "        print(f\"HATA: Veriler kaydedilirken bir sorun oluştu: {e}\")\n",
        "\n",
        "def kaydet():\n",
        "    baslik = input(\"Başlık: \").strip()\n",
        "    yazar = input(\"Yazar: \").strip()\n",
        "\n",
        "    if baslik and yazar:\n",
        "        kutuphane.append({\"BAŞLIK\": baslik, \"YAZAR\": yazar}) # Corrected key names to match listele and ara\n",
        "        print(f\"'{baslik}' eklendi.\")\n",
        "        verileri_kaydet()\n",
        "    else:\n",
        "        print(\"Başlık ve Yazar boş bırakılamaz.\")\n",
        "\n",
        "def listele():\n",
        "    if not kutuphane:\n",
        "        print(\"\\nKütüphanede kayıtlı eser bulunmamaktadır.\")\n",
        "        return\n",
        "\n",
        "    print(\"\\n--- KÜTÜPHANE ESER LİSTESİ ---\")\n",
        "    for i, eser in enumerate(kutuphane):\n",
        "        # Corrected key names to match kaydet\n",
        "        print(f\"{i+1}. {eser.get('BAŞLIK', 'Başlık Bilgisi Yok')} (Yazar: {eser.get('YAZAR', 'Yazar Bilgisi Yok')})\")\n",
        "    print(\"--------------------------------\\n\")\n",
        "\n",
        "def ara():\n",
        "    if not kutuphane:\n",
        "        print(\"Arama yapmak için önce eser kaydedin.\")\n",
        "        return\n",
        "\n",
        "    terim = input(\"Aramak istediğiniz kelimeyi girin: \").strip().lower()\n",
        "    if not terim:\n",
        "        print(\"Arama terimi boş olamaz.\")\n",
        "        return\n",
        "\n",
        "    sonuclar = [\n",
        "        eser for eser in kutuphane\n",
        "        # Corrected key names to match kaydet\n",
        "        if terim in eser.get('BAŞLIK', '').lower() or terim in eser.get('YAZAR', '').lower()\n",
        "    ]\n",
        "\n",
        "    if sonuclar:\n",
        "        print(f\"\\n--- ARANAN: '{terim}' İÇİN SONUÇLAR ---\")\n",
        "        for eser in sonuclar:\n",
        "             # Corrected key names to match kaydet\n",
        "            print(f\"- Başlık: {eser.get('BAŞLIK', 'Başlık Bilgisi Yok')}, Yazar: {eser.get('YAZAR', 'Yazar Bilgisi Yok')}\")\n",
        "        print(\"------------------------------------------\\n\")\n",
        "    else:\n",
        "        print(f\"'{terim}' ile eşleşen eser bulunamadı.\")\n",
        "\n",
        "\n",
        "def calistir():\n",
        "    verileri_yukle()\n",
        "\n",
        "    while True:\n",
        "        print(\"\\n--- KİTAPLIK MENÜSÜ ---\")\n",
        "        print(\"[1] Kaydet | [2] Listele | [3] Ara | [4] Çıkış\")\n",
        "        print(\"-----------------------\")\n",
        "\n",
        "        secim = input(\"Seçiminiz (1-4): \").strip()\n",
        "\n",
        "        if secim == '1':\n",
        "            kaydet()\n",
        "        elif secim == '2':\n",
        "            listele()\n",
        "        elif secim == '3':\n",
        "            ara()\n",
        "        elif secim == '4':\n",
        "            print(\"Uygulama kapandı.\")\n",
        "            break\n",
        "        else:\n",
        "            print(\"Geçersiz seçim.\")\n",
        "\n",
        "if __name__ == \"__main__\":\n",
        "    calistir()"
      ],
      "metadata": {
        "id": "lqwUU5AJslce"
      },
      "execution_count": null,
      "outputs": []
    }
  ]
}