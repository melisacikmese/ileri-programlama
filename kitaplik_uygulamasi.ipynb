{
  "nbformat": 4,
  "nbformat_minor": 0,
  "metadata": {
    "colab": {
      "provenance": [],
      "authorship_tag": "ABX9TyOmdP1dp3eMkeSQ1D37CTuA",
      "include_colab_link": true
    },
    "kernelspec": {
      "name": "python3",
      "display_name": "Python 3"
    },
    "language_info": {
      "name": "python"
    }
  },
  "cells": [
    {
      "cell_type": "markdown",
      "metadata": {
        "id": "view-in-github",
        "colab_type": "text"
      },
      "source": [
        "<a href=\"https://colab.research.google.com/github/melisacikmese/ileri-programlama/blob/main/kitaplik_uygulamasi.ipynb\" target=\"_parent\"><img src=\"https://colab.research.google.com/assets/colab-badge.svg\" alt=\"Open In Colab\"/></a>"
      ]
    },
    {
      "cell_type": "code",
      "execution_count": 1,
      "metadata": {
        "colab": {
          "base_uri": "https://localhost:8080/"
        },
        "id": "xXtkvhlNkTMY",
        "outputId": "0e971dba-ba21-499a-a1d4-406914646676"
      },
      "outputs": [
        {
          "output_type": "stream",
          "name": "stdout",
          "text": [
            "Mounted at /content/drive\n"
          ]
        }
      ],
      "source": [
        "from google.colab import drive\n",
        "drive.mount('/content/drive')"
      ]
    },
    {
      "cell_type": "code",
      "source": [
        "import json\n",
        "import os\n",
        "from google.colab import drive\n",
        "\n",
        "VERI_DOSYASI_YOLU = '/content/drive/MyDrive/Colab Notebooks/kitaplik_uygulamasi.json'\n",
        "eser_listesi = [] # Ana kütüphane listesi\n",
        "\n",
        "def verileri_yukle_ve_baslat():\n",
        "    \"\"\"Uygulama açılırken verileri yükler ve Drive klasörünü hazırlar.\"\"\"\n",
        "    global eser_listesi\n",
        "\n",
        "    # Klasörü hazırla (yoksa oluştur)\n",
        "    dizin = os.path.dirname(VERI_DOSYASI_YOLU)\n",
        "    if not os.path.exists(dizin):\n",
        "        os.makedirs(dizin)\n",
        "\n",
        "    # Veriyi dosyadan yükle\n",
        "    if os.path.exists(VERI_DOSYASI_YOLU):\n",
        "        try:\n",
        "            with open(VERI_DOSYASI_YOLU, 'r', encoding='utf-8') as f:\n",
        "                eser_listesi = json.load(f)\n",
        "            print(f\"[{len(eser_listesi)}] eser yüklendi.\")\n",
        "        except:\n",
        "            eser_listesi = [] # Hata olursa boş başla\n",
        "\n",
        "    return eser_listesi\n",
        "\n",
        "def degisiklikleri_kaydet():\n",
        "    \"\"\"Değişiklikleri kalıcı olarak dosyaya kaydeder.\"\"\"\n",
        "    try:\n",
        "        with open(VERI_DOSYASI_YOLU, 'w', encoding='utf-8') as f:\n",
        "            json.dump(eser_listesi, f, indent=4, ensure_ascii=False)\n",
        "    except:\n",
        "        print(\"HATA: Kayıt başarısız oldu.\")\n",
        "\n",
        "def uygulamayi_baslat():\n",
        "    global eser_listesi\n",
        "    eser_listesi = verileri_yukle_ve_baslat() # Uygulamayı başlat ve verileri yükle\n",
        "\n",
        "    while True:\n",
        "        print(\"\\n--- KİTAPLIK MENÜSÜ ---\")\n",
        "        print(\"1: KAYDET | 2: LİSTELE | 3: ARA | 4: ÇIKIŞ\")\n",
        "        secim = input(\"Seçiminizi Girin: \").strip()\n",
        "\n",
        "        if secim == '1': # ESER KAYDET\n",
        "            baslik = input(\"Eser Başlığı: \").strip()\n",
        "            yazar = input(\"Eser Yazarı: \").strip()\n",
        "            if baslik and yazar:\n",
        "                # 'baslik' için 'b', 'yazar' için 'y' kısaltmaları korundu\n",
        "                eser_listesi.append({\"b\": baslik, \"y\": yazar})\n",
        "                print(f\"'{baslik}' eklendi.\")\n",
        "                degisiklikleri_kaydet()\n",
        "            else:\n",
        "                print(\"Başlık veya Yazar boş bırakılamaz.\")\n",
        "\n",
        "        elif secim == '2': # ESERLERİ LİSTELE\n",
        "            if not eser_listesi:\n",
        "                print(\"Kütüphane boş, hiç eser yok.\")\n",
        "            else:\n",
        "                print(\"\\n--- TÜM ESERLER ---\")\n",
        "                for i, eser in enumerate(eser_listesi):\n",
        "                    print(f\"{i+1}. {eser['b']} (Yazar: {eser['y']})\")\n",
        "                print(\"---------------------\")\n",
        "\n",
        "        elif secim == '3': # BASİT ARAMA\n",
        "            if not eser_listesi:\n",
        "                print(\"Arama yapmak için önce eser kaydedin.\")\n",
        "                continue\n",
        "\n",
        "            arama_terimi = input(\"Arama Kelimesi: \").strip().lower()\n",
        "            sonuclar = [\n",
        "                eser for eser in eser_listesi\n",
        "                if arama_terimi in eser['b'].lower() or arama_terimi in eser['y'].lower()\n",
        "            ]\n",
        "\n",
        "            if sonuclar:\n",
        "                print(f\"\\n--- ARANAN: '{arama_terimi}' SONUÇLARI ---\")\n",
        "                for eser in sonuclar:\n",
        "                    print(f\"- {eser['b']} / {eser['y']}\")\n",
        "                print(\"---------------------------------\")\n",
        "            else:\n",
        "                print(f\"'{arama_terimi}' ile eşleşen eser bulunamadı.\")\n",
        "\n",
        "        elif secim == '4': # ÇIKIŞ\n",
        "            print(\"Uygulama başarıyla kapatıldı.\")\n",
        "            break\n",
        "\n",
        "        else:\n",
        "            print(\"Geçersiz seçim. Lütfen menüdeki rakamlardan birini girin.\")\n",
        "\n",
        "if __name__ == \"__main__\":\n",
        "    uygulamayi_baslat()"
      ],
      "metadata": {
        "colab": {
          "base_uri": "https://localhost:8080/"
        },
        "id": "Q71ZuUShmDJM",
        "outputId": "f0809206-2d86-4cfb-b631-93657963e7f8"
      },
      "execution_count": 4,
      "outputs": [
        {
          "output_type": "stream",
          "name": "stdout",
          "text": [
            "[1] eser yüklendi.\n",
            "\n",
            "--- KİTAPLIK MENÜSÜ ---\n",
            "1: KAYDET | 2: LİSTELE | 3: ARA | 4: ÇIKIŞ\n",
            "Seçiminizi Girin: 1\n",
            "Eser Başlığı: sefiller\n",
            "Eser Yazarı: victor hugo\n",
            "'sefiller' eklendi.\n",
            "\n",
            "--- KİTAPLIK MENÜSÜ ---\n",
            "1: KAYDET | 2: LİSTELE | 3: ARA | 4: ÇIKIŞ\n",
            "Seçiminizi Girin: 2\n",
            "\n",
            "--- TÜM ESERLER ---\n",
            "1. sefiller (Yazar: victor hugo)\n",
            "2. sefiller (Yazar: victor hugo)\n",
            "---------------------\n",
            "\n",
            "--- KİTAPLIK MENÜSÜ ---\n",
            "1: KAYDET | 2: LİSTELE | 3: ARA | 4: ÇIKIŞ\n",
            "Seçiminizi Girin: 3\n",
            "Arama Kelimesi: sef\n",
            "\n",
            "--- ARANAN: 'sef' SONUÇLARI ---\n",
            "- sefiller / victor hugo\n",
            "- sefiller / victor hugo\n",
            "---------------------------------\n",
            "\n",
            "--- KİTAPLIK MENÜSÜ ---\n",
            "1: KAYDET | 2: LİSTELE | 3: ARA | 4: ÇIKIŞ\n",
            "Seçiminizi Girin: 4\n",
            "Uygulama başarıyla kapatıldı.\n"
          ]
        }
      ]
    }
  ]
}